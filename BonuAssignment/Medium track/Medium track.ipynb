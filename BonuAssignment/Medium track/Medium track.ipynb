{
 "cells": [
  {
   "cell_type": "markdown",
   "id": "ce5aaa2a",
   "metadata": {},
   "source": [
    "# Image Segmentation by Clusters\n",
    "\n",
    "In this track you're asked to perform image segmentation by the cluster algorithms. One of them, K-means, was discussed in the lecture and classes, while the method of Fuzzy C-means *(FCM)* Clustering might be new for you."
   ]
  },
  {
   "cell_type": "markdown",
   "id": "8ff6b260",
   "metadata": {},
   "source": [
    "## Marking criteria: \n",
    "\n",
    "- **6 points**: Do image segmentation with K-means;\n",
    "- **7 points**: Finish the implementation of FCM algorithm;\n",
    "- **2 points**: Compare the performance of algorithms."
   ]
  },
  {
   "cell_type": "markdown",
   "id": "711b3a10",
   "metadata": {},
   "source": [
    "## 1. Segmentation by K-means++ [6 points]\n",
    "\n",
    "### 1.1 Prepare the data [1 points]\n",
    "\n",
    "You're going to work with the real dataset that people use for the training of modern neural networks, yet sampled from GTA V. The reason of such sampling - is the ability to generate tons of *labeled* data, one of the key components of deep learning. However, the clustering algorithms in your assignment do not require so many images and you will use these images for validation only. \n",
    "\n",
    "\n",
    "Write a function that reads all the images in the given directory, load them as `cv.mat`, convert to grayscale, flatten it into a one dimensional array and convert from byte. The function should return two lists:\n",
    "1) list of 1D `numpy.float32` arrays - the **flatten** grayscale images. These arrays will be used in clustering procedure;\n",
    "2) list of 2D `numpy.uint8` grayscale images. They might help for visualization of the segmented images.\n",
    "\n",
    "\n",
    "Module `os` might be useful to navigate through the files. \n",
    "\n",
    "***Do not use any additional libraries***"
   ]
  },
  {
   "cell_type": "code",
   "execution_count": null,
   "id": "acc40150",
   "metadata": {},
   "outputs": [],
   "source": [
    "import numpy as np\n",
    "import cv2\n",
    "import os \n",
    "\n",
    "path = \"data/images/\"\n",
    "# Write your code here"
   ]
  },
  {
   "cell_type": "markdown",
   "id": "cc6636b3",
   "metadata": {},
   "source": [
    "### 1.2 Do a segmentation with K-means [5 points]\n",
    "\n",
    "K-means can segment an image by the similarity of colors for each pixel. While it's not a semantic segmentation (i.e. segmentation of object on the image), the resulting image might be useful, for example, as a compression of the original one. \n",
    "\n",
    "Implement an image segmentation algorithm by K-means. Choose the number of clusters from 3 to 7. Fit the **flatten grayscale** images from the previous step to your algorithm. At the end you should get an array with the assignment of each pixel to some cluster. Reshape this array to the shape of the original image, set some colors to the clusters (to distinguish them) and do a visualization. Note that in this task you're **not** asked to implement K-means by yourself. \n",
    "\n",
    "***You're allowed to use any libraries***\n",
    "\n",
    "Example of the original and segmented images. You might get another color scheme in segmentation, and it's fine, but please make sure that the clusters are distinguishable: \n",
    "\n",
    "\n",
    "![Original](data/original.png)\n",
    "\n",
    "![Segmented](data/segmented.png)"
   ]
  },
  {
   "cell_type": "code",
   "execution_count": null,
   "id": "63a7bbe6",
   "metadata": {},
   "outputs": [],
   "source": [
    "from matplotlib import pyplot as plt\n",
    "\n",
    "# Write your code here"
   ]
  },
  {
   "cell_type": "markdown",
   "id": "0d6829fe",
   "metadata": {},
   "source": [
    "## 2. Segmentation by Fuzzy Clustering [9 points]\n",
    "\n",
    "Fuzzy clustering algorithms might be more preferable for the segmentation task than K-means. Instead of assigning each pixel (or data point in general) to only one cluster, a fuzzy method calculates the probability of belonging to each cluster for the pixel. Such probability, or **membership value** from $i-th$ data point to $j-th$ cluster, are combined into the **membership matrix** $W$ in a such way:\n",
    "\n",
    "$\\sum_{j=0}^C W_{i,j} = 1$\n",
    "\n",
    "for any data point $i$, where $C$ - number of clusters. With this definition of a membership matrix the one should minimize this objective function to get the optimal values of clusters' centroids $c_j$:\n",
    "\n",
    "$J = \\sum_{i=0}^N \\sum_{j=0}^C W_{i,j}^m \\|x_i - c_j\\|^2$ \n",
    "\n",
    "where $c_j$ is a cluster's centroid, $N$ - number of data points. $m$ - is a hyperparameter controlling the \"fuzziness\" of the clusters: the bigger this figure the closer the centroids are to each other; it is set at the beginning of the procedure. The membership value is calculated like this:\n",
    "\n",
    "$W_{i,j} = {1 \\over {\\sum_{k=0}^C {(\\|x_i - c_j\\|) \\over (\\|x_i - c_k\\|)}^{{2 \\over m-1}} }}$\n",
    "\n",
    "The **centroids** are calculated by:\n",
    "\n",
    "$c_k = { \\sum_{i=0}^N W_{i,k}^m * x_i \\over \\sum_{i=0}^N W_{i,k}^m}$\n",
    "\n",
    "Thus, **the algorithm** of minimization of the objective function for image segmentation is:\n",
    "\n",
    "- Choose a number of clusters $C$, in our case it should be somewhere in the range 3-7. Also choose the $m$ parameter from 2 to 5;\n",
    "- Flatten the grayscale image into an array with length $N$; \n",
    "- Initialize the membership matrix $W$ with shape $N$ x $C$; at the beginning the values can random from 0 to 1. Make sure that for each pixel sum of its weights is equal to 1;\n",
    "- The procedure of $W$ and $c$ calculation is iterative, so you should define stop criteria. That might be just the maximum number of steps, or some small epsilon - the absolute difference between matrix $W$ before and after the next update. You can also set both of the criteria;\n",
    "- Repeat until one of the stop criteria is satisfied:\n",
    "1) Compute the centroid for each cluster by $c_k$ formula;\n",
    "2) Update the membership matrix $W$ with new values of centroids $c_k$. \n",
    "- For each pixel assign a cluster with the highest value after finishing the algorithm. Reshape the array into the shape of the original image."
   ]
  },
  {
   "cell_type": "markdown",
   "id": "632c836c",
   "metadata": {},
   "source": [
    "### 2.1 Complete the implementation of the Fuzzy C-Means Clustering [7 points]\n",
    "\n",
    "Use the description of the algorithm above to implement . You can either implement your own class or functions, or finish the implementation in the template according to the comments. \n",
    "\n",
    "***Do not use any additional libraries***"
   ]
  },
  {
   "cell_type": "code",
   "execution_count": null,
   "id": "0accc303",
   "metadata": {},
   "outputs": [],
   "source": [
    "import numpy as np\n",
    "import math \n",
    "import cv2\n",
    "# Write your code here\n",
    "\n",
    "class MyClusteringAlg():\n",
    "    \n",
    "    # Constructor with common parameters \n",
    "    # n_clusters - number of clusters (recommended from 3 to 7)\n",
    "    # n          - FCM hyperparameter to contol the spray of the clusters (recommended from 2 to 5)\n",
    "    # epsilon    - stop factor, the minimum possible distance (Euclidian or Manhattan) between \n",
    "    #              membership matricies after and before update \n",
    "    # max_iter   - stop factor, maximum possible iteration in segmentImage()\n",
    "    def __init__(self, n_clusters = 4, m = 3, epsilon = 0.1, max_iter = 100):\n",
    "        pass\n",
    "       \n",
    "    # Initialize membership matrix at the beginning of segmentImage()\n",
    "    def __initW(self):\n",
    "        pass\n",
    "    \n",
    "    # Calculate membership matrix according to the formula in the description of alg.\n",
    "    def __updateWeightMat(self):\n",
    "        pass \n",
    "\n",
    "    # Calculate centroids according to the formula in the description of alg. \n",
    "    def __updateClusterCentroids(self):\n",
    "        pass\n",
    "                       \n",
    "\n",
    "    # The main function of class that implements the whole algorithm \n",
    "    # Inputs the original grayscale image, returns its segmented version\n",
    "    def segmentImage(self, image:np.array)->np.array:\n",
    "        pass\n"
   ]
  },
  {
   "cell_type": "markdown",
   "id": "54d4bbf2",
   "metadata": {},
   "source": [
    "### 2.2 K-means++ VS Fuzzy C-Means: Compare the performance [2 point]\n",
    "\n",
    "Now you have two sets of the segmented images and labels in `data/` directory. All of these images have their own labeling of clusters, yet may segment the same instances. For example, vectors (that can be some part of segmented image) *1,1,1,0* and *75, 75, 75, 74* have quite a distance in Euclidean metric, but they are obviously correlated. \n",
    "\n",
    "That's why we cannot compare the images directly by pixels and will use ***cosine similarity***. Your task is: \n",
    "\n",
    "1) Calculate the average similarity between every segmented images from K-means and C-means and ground truth images in `data/labels`;\n",
    "2) The average similarity of two images is calculated as follows. Compute the cosine similarity of **every rows** (pairwise) in images, take its absolute values, sum up the and divide by number of row pairs (i.e. height of image);\n",
    "3) The higher similarity is considered as better clustering. Comment about the quality of C-means and K-means.\n",
    "4) (*Recommended, but not necessary task*) How else would you measure the quality of segmentation?\n",
    "\n",
    "\n",
    "***You're allowed to use any libraries***"
   ]
  },
  {
   "cell_type": "code",
   "execution_count": null,
   "id": "1d9f0c25",
   "metadata": {},
   "outputs": [],
   "source": [
    "# Write your code here"
   ]
  },
  {
   "cell_type": "markdown",
   "id": "02773ce6",
   "metadata": {},
   "source": [
    "### References\n",
    "\n",
    "https://towardsdatascience.com/fuzzy-c-means-clustering-with-python-f4908c714081\n",
    "\n",
    "https://en.wikipedia.org/wiki/Fuzzy_clustering"
   ]
  }
 ],
 "metadata": {
  "kernelspec": {
   "display_name": "Python 3 (ipykernel)",
   "language": "python",
   "name": "python3"
  },
  "language_info": {
   "codemirror_mode": {
    "name": "ipython",
    "version": 3
   },
   "file_extension": ".py",
   "mimetype": "text/x-python",
   "name": "python",
   "nbconvert_exporter": "python",
   "pygments_lexer": "ipython3",
   "version": "3.11.2"
  }
 },
 "nbformat": 4,
 "nbformat_minor": 5
}
