{
 "cells": [
  {
   "cell_type": "markdown",
   "id": "58fac77f",
   "metadata": {},
   "source": [
    "# Clustering of customers by credit card data\n",
    "\n",
    "In this track you're asked to cluster similar customers according to their credit card history. "
   ]
  },
  {
   "cell_type": "markdown",
   "id": "09b96b2c",
   "metadata": {},
   "source": [
    "## Marking criteria: \n",
    "\n",
    "- **2 points** : Prepare the data set and implement a basic K-means++ algorithm;\n",
    "- **2 point**  : Apply elbow method & PCA to get more reliable results;\n",
    "- **1 points** : Write a function  to evaluate the quality of clustering & visualize the clusters.\n"
   ]
  },
  {
   "cell_type": "markdown",
   "id": "bbd27fcc",
   "metadata": {},
   "source": [
    "## 1. Basic clusterization [2 points]\n",
    "\n",
    "### 1.1 Prepare the data [1 points]\n",
    "\n",
    "Load `CC GENERAL.csv` into a pandas data frame and print the head (5 rows) and statistics (mean, max, min, etc. for every feature) of the frame to get a clue what the data looks like. You need to **remove one of the column** which is redundant for customer clusterization.\n",
    "\n",
    "***Do not use any additional libraries***"
   ]
  },
  {
   "cell_type": "code",
   "execution_count": null,
   "id": "dd50fb3d",
   "metadata": {},
   "outputs": [],
   "source": [
    "import pandas as pd\n",
    "# Write your code here"
   ]
  },
  {
   "cell_type": "markdown",
   "id": "c57b4365",
   "metadata": {},
   "source": [
    "You may notice that the data set is not perfectly clear. **Remove all the entries that have NaN** features or approximate these features by the similar rows. Also, make sure there are no duplicates.\n",
    "\n",
    "Some of the columns are already normalized, while others not. To make the clusterization stable, it's recommended every feature to be **normalized**."
   ]
  },
  {
   "cell_type": "code",
   "execution_count": null,
   "id": "03ca13a0",
   "metadata": {},
   "outputs": [],
   "source": [
    "from sklearn.preprocessing import MinMaxScaler\n",
    "# Write your code here"
   ]
  },
  {
   "cell_type": "markdown",
   "id": "1629f780",
   "metadata": {},
   "source": [
    "### 1.2 Clusterization of the customers [1 point]\n",
    "\n",
    "Do **K-means++ clusterization** with an arbitrary K.\n",
    "\n",
    "***You're allowed to use any libraries***"
   ]
  },
  {
   "cell_type": "code",
   "execution_count": null,
   "id": "d560ea93",
   "metadata": {},
   "outputs": [],
   "source": [
    "# Write your code here"
   ]
  },
  {
   "cell_type": "markdown",
   "id": "f7033a97",
   "metadata": {},
   "source": [
    "## 2. Improve the result [2 points]\n",
    "\n",
    "### 2.1 Elbow method [1 points]\n",
    "\n",
    "Now let's find the optimal value of K. Implement the **elbow method**, choose the best K and **explain your choice** in the comments. \n",
    "\n",
    "***Do not use any additional libraries***"
   ]
  },
  {
   "cell_type": "code",
   "execution_count": null,
   "id": "c9e608ae",
   "metadata": {
    "scrolled": true
   },
   "outputs": [],
   "source": [
    "from matplotlib import pyplot as plt\n",
    "from scipy.spatial.distance import cdist\n",
    "import numpy as np\n",
    "\n",
    "# Your function should vizualize the values for different K's\n",
    "# X     : clean data set from the previous step\n",
    "# max_K : range of the K's for checking\n",
    "def elbow(X: pd.DataFrame, max_K = 10) -> None:\n",
    "    # Write your code here\n",
    "    pass\n",
    "\n",
    "elbow(myDataFrame)\n",
    "# The optimum number of clusrers according to the elbow method\n",
    "K_optim = ..."
   ]
  },
  {
   "cell_type": "markdown",
   "id": "67eb5b90",
   "metadata": {},
   "source": [
    "### 2.2 PCA [1 point]\n",
    "\n",
    "It might be useful to reduce the dimension of this data. **Apply PCA** with an arbitrary number of components on it and try to call elbow() function of the reduced data. Have you changed your choice of K_optim?\n",
    "\n",
    "***You're allowed to use any libraries***"
   ]
  },
  {
   "cell_type": "code",
   "execution_count": null,
   "id": "ba5d4677",
   "metadata": {},
   "outputs": [],
   "source": [
    "# Write your code here"
   ]
  },
  {
   "cell_type": "markdown",
   "id": "396d5112",
   "metadata": {},
   "source": [
    "## 3. Evaluate the quality of clusterization [1 point]\n",
    "\n",
    "Now you have an optimum K, let's evaluate the quality of the clusterization by ***silhouette score***. Try different values of PCA, try the evaluation without PCA, and conclude what is the best number of principal components according to the silhouette score. Explain your choice in the comments. \n",
    "\n",
    "Set the number of principal components to 2 and visualize the clusters. \n",
    "\n",
    "***You're allowed to use any libraries***"
   ]
  },
  {
   "cell_type": "code",
   "execution_count": null,
   "id": "5f3e6036",
   "metadata": {
    "scrolled": true
   },
   "outputs": [],
   "source": [
    "# Write your code here\n",
    "\n",
    "# use_pca :  True, if PCA is used, False for Kmeans++ on vanilla data\n",
    "# n_comp  :  number of principal components for PCA, if it's used\n",
    "# X       :  clear input data\n",
    "# silh_sc : silhouette score\n",
    "def score(use_pca: bool, n_comp: int, X: pd.DataFrame) -> float:\n",
    "    # Note: use K_optim for the number of clusters \n",
    "    silh_sc = 0\n",
    "    return silh_sc"
   ]
  },
  {
   "cell_type": "markdown",
   "id": "a9c7ffa6",
   "metadata": {},
   "source": [
    "### References\n",
    "\n",
    "https://en.wikipedia.org/wiki/Silhouette_(clustering)"
   ]
  }
 ],
 "metadata": {
  "kernelspec": {
   "display_name": "Python 3 (ipykernel)",
   "language": "python",
   "name": "python3"
  },
  "language_info": {
   "codemirror_mode": {
    "name": "ipython",
    "version": 3
   },
   "file_extension": ".py",
   "mimetype": "text/x-python",
   "name": "python",
   "nbconvert_exporter": "python",
   "pygments_lexer": "ipython3",
   "version": "3.11.2"
  }
 },
 "nbformat": 4,
 "nbformat_minor": 5
}
